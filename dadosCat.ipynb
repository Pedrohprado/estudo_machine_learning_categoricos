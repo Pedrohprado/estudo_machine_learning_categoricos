{
 "cells": [
  {
   "attachments": {},
   "cell_type": "markdown",
   "metadata": {},
   "source": [
    "Trabalhando com dados categoricos para fazer a previsão de riscos com base nessa mesma coluna"
   ]
  },
  {
   "cell_type": "code",
   "execution_count": 122,
   "metadata": {},
   "outputs": [],
   "source": [
    "import pandas as pd\n",
    "import matplotlib.pyplot as plt\n",
    "import numpy as np\n",
    "from sklearn.neighbors import KNeighborsClassifier\n"
   ]
  },
  {
   "cell_type": "code",
   "execution_count": 123,
   "metadata": {},
   "outputs": [],
   "source": [
    "df = pd.read_csv('https://raw.githubusercontent.com/ronaldolagepessoa/machine-learning/master/dados/exemplo3.csv')"
   ]
  },
  {
   "cell_type": "code",
   "execution_count": 124,
   "metadata": {},
   "outputs": [
    {
     "data": {
      "text/html": [
       "<div>\n",
       "<style scoped>\n",
       "    .dataframe tbody tr th:only-of-type {\n",
       "        vertical-align: middle;\n",
       "    }\n",
       "\n",
       "    .dataframe tbody tr th {\n",
       "        vertical-align: top;\n",
       "    }\n",
       "\n",
       "    .dataframe thead th {\n",
       "        text-align: right;\n",
       "    }\n",
       "</style>\n",
       "<table border=\"1\" class=\"dataframe\">\n",
       "  <thead>\n",
       "    <tr style=\"text-align: right;\">\n",
       "      <th></th>\n",
       "      <th>idade</th>\n",
       "      <th>conta_corrente</th>\n",
       "      <th>sexo</th>\n",
       "      <th>risco</th>\n",
       "    </tr>\n",
       "  </thead>\n",
       "  <tbody>\n",
       "    <tr>\n",
       "      <th>0</th>\n",
       "      <td>21.257389</td>\n",
       "      <td>783.127911</td>\n",
       "      <td>masculino</td>\n",
       "      <td>ruim</td>\n",
       "    </tr>\n",
       "    <tr>\n",
       "      <th>1</th>\n",
       "      <td>21.766573</td>\n",
       "      <td>979.747521</td>\n",
       "      <td>feminino</td>\n",
       "      <td>bom</td>\n",
       "    </tr>\n",
       "    <tr>\n",
       "      <th>2</th>\n",
       "      <td>25.321033</td>\n",
       "      <td>1065.328054</td>\n",
       "      <td>feminino</td>\n",
       "      <td>bom</td>\n",
       "    </tr>\n",
       "    <tr>\n",
       "      <th>3</th>\n",
       "      <td>23.919268</td>\n",
       "      <td>1195.758078</td>\n",
       "      <td>feminino</td>\n",
       "      <td>bom</td>\n",
       "    </tr>\n",
       "    <tr>\n",
       "      <th>4</th>\n",
       "      <td>21.805298</td>\n",
       "      <td>1083.764450</td>\n",
       "      <td>feminino</td>\n",
       "      <td>bom</td>\n",
       "    </tr>\n",
       "  </tbody>\n",
       "</table>\n",
       "</div>"
      ],
      "text/plain": [
       "       idade  conta_corrente       sexo risco\n",
       "0  21.257389      783.127911  masculino  ruim\n",
       "1  21.766573      979.747521   feminino   bom\n",
       "2  25.321033     1065.328054   feminino   bom\n",
       "3  23.919268     1195.758078   feminino   bom\n",
       "4  21.805298     1083.764450   feminino   bom"
      ]
     },
     "execution_count": 124,
     "metadata": {},
     "output_type": "execute_result"
    }
   ],
   "source": [
    "#Trabalhando com dados categóricos ['sexo']\n",
    "df.head()"
   ]
  },
  {
   "cell_type": "code",
   "execution_count": 125,
   "metadata": {},
   "outputs": [
    {
     "data": {
      "text/plain": [
       "0    ruim\n",
       "1     bom\n",
       "2     bom\n",
       "3     bom\n",
       "4     bom\n",
       "Name: risco, dtype: object"
      ]
     },
     "execution_count": 125,
     "metadata": {},
     "output_type": "execute_result"
    }
   ],
   "source": [
    "X = df.drop('risco', axis=1)\n",
    "y = df.risco\n",
    "\n",
    "y.head()"
   ]
  },
  {
   "cell_type": "code",
   "execution_count": 126,
   "metadata": {},
   "outputs": [
    {
     "data": {
      "text/html": [
       "<div>\n",
       "<style scoped>\n",
       "    .dataframe tbody tr th:only-of-type {\n",
       "        vertical-align: middle;\n",
       "    }\n",
       "\n",
       "    .dataframe tbody tr th {\n",
       "        vertical-align: top;\n",
       "    }\n",
       "\n",
       "    .dataframe thead th {\n",
       "        text-align: right;\n",
       "    }\n",
       "</style>\n",
       "<table border=\"1\" class=\"dataframe\">\n",
       "  <thead>\n",
       "    <tr style=\"text-align: right;\">\n",
       "      <th></th>\n",
       "      <th>sexo</th>\n",
       "    </tr>\n",
       "  </thead>\n",
       "  <tbody>\n",
       "    <tr>\n",
       "      <th>0</th>\n",
       "      <td>masculino</td>\n",
       "    </tr>\n",
       "    <tr>\n",
       "      <th>1</th>\n",
       "      <td>feminino</td>\n",
       "    </tr>\n",
       "    <tr>\n",
       "      <th>2</th>\n",
       "      <td>feminino</td>\n",
       "    </tr>\n",
       "    <tr>\n",
       "      <th>3</th>\n",
       "      <td>feminino</td>\n",
       "    </tr>\n",
       "    <tr>\n",
       "      <th>4</th>\n",
       "      <td>feminino</td>\n",
       "    </tr>\n",
       "    <tr>\n",
       "      <th>...</th>\n",
       "      <td>...</td>\n",
       "    </tr>\n",
       "    <tr>\n",
       "      <th>2495</th>\n",
       "      <td>feminino</td>\n",
       "    </tr>\n",
       "    <tr>\n",
       "      <th>2496</th>\n",
       "      <td>masculino</td>\n",
       "    </tr>\n",
       "    <tr>\n",
       "      <th>2497</th>\n",
       "      <td>masculino</td>\n",
       "    </tr>\n",
       "    <tr>\n",
       "      <th>2498</th>\n",
       "      <td>masculino</td>\n",
       "    </tr>\n",
       "    <tr>\n",
       "      <th>2499</th>\n",
       "      <td>masculino</td>\n",
       "    </tr>\n",
       "  </tbody>\n",
       "</table>\n",
       "<p>2500 rows × 1 columns</p>\n",
       "</div>"
      ],
      "text/plain": [
       "           sexo\n",
       "0     masculino\n",
       "1      feminino\n",
       "2      feminino\n",
       "3      feminino\n",
       "4      feminino\n",
       "...         ...\n",
       "2495   feminino\n",
       "2496  masculino\n",
       "2497  masculino\n",
       "2498  masculino\n",
       "2499  masculino\n",
       "\n",
       "[2500 rows x 1 columns]"
      ]
     },
     "execution_count": 126,
     "metadata": {},
     "output_type": "execute_result"
    }
   ],
   "source": [
    "#Função para selecionar um dato categórico (object)\n",
    "\n",
    "X.select_dtypes(include='object')"
   ]
  },
  {
   "cell_type": "code",
   "execution_count": 127,
   "metadata": {},
   "outputs": [],
   "source": [
    "#Guardado em uma variavel esses dados categoricos da planilha\n",
    "X_cat = X.select_dtypes(include='object')"
   ]
  },
  {
   "cell_type": "code",
   "execution_count": 128,
   "metadata": {},
   "outputs": [],
   "source": [
    "#Vamos fazer uma processo de binarização utilizando OneHotEncoder\n",
    "from sklearn.preprocessing import OneHotEncoder \n",
    "\n",
    "onehot = OneHotEncoder(sparse=False, drop='first') #chamando a function com os parametros 'sparse' para o resultado não ser uma matriz dessa forma e 'drop' para eliminar uma das colunas geradas\n",
    "X_bin = onehot.fit_transform(X_cat)\n"
   ]
  },
  {
   "cell_type": "code",
   "execution_count": 129,
   "metadata": {},
   "outputs": [],
   "source": [
    "#Fazendo a normalização das colunas numéricas\n",
    "from sklearn.preprocessing import MinMaxScaler\n",
    "\n",
    "X_num = X.select_dtypes(exclude='object')\n",
    "minmax = MinMaxScaler()\n",
    "\n",
    "X_num = minmax.fit_transform(X_num)"
   ]
  },
  {
   "cell_type": "code",
   "execution_count": 130,
   "metadata": {},
   "outputs": [],
   "source": [
    "#Function do numpy que ajuda a unir os dois valores já processados em um unico DF\n",
    "X_all = np.append(X_num, X_bin, axis=1)"
   ]
  },
  {
   "cell_type": "code",
   "execution_count": 131,
   "metadata": {},
   "outputs": [
    {
     "data": {
      "text/plain": [
       "0.7146282973621103"
      ]
     },
     "execution_count": 131,
     "metadata": {},
     "output_type": "execute_result"
    }
   ],
   "source": [
    "#Importando os pacotes para auxiliar nas precições\n",
    "from sklearn.svm import SVC\n",
    "from sklearn.model_selection import train_test_split  #divisão de conjunto de treinamento e conjunto de teste\n",
    "from sklearn.metrics import accuracy_score #medida de precisão do nosso classificador\n",
    "\n",
    "#Divisão dos conjuntos de treinamento e testes\n",
    "X_train, X_test, y_train, y_test = train_test_split(X_all, y , test_size=1/3, random_state=42)\n",
    "\n",
    "#Treinamento do classificador SVM\n",
    "svc2 = SVC()\n",
    "svc2.fit(X_train, y_train)\n",
    "\n",
    "#Cálculo da precisão\n",
    "accuracy_score(y_test, svc2.predict(X_test))"
   ]
  },
  {
   "cell_type": "code",
   "execution_count": 132,
   "metadata": {},
   "outputs": [
    {
     "data": {
      "text/html": [
       "<div>\n",
       "<style scoped>\n",
       "    .dataframe tbody tr th:only-of-type {\n",
       "        vertical-align: middle;\n",
       "    }\n",
       "\n",
       "    .dataframe tbody tr th {\n",
       "        vertical-align: top;\n",
       "    }\n",
       "\n",
       "    .dataframe thead th {\n",
       "        text-align: right;\n",
       "    }\n",
       "</style>\n",
       "<table border=\"1\" class=\"dataframe\">\n",
       "  <thead>\n",
       "    <tr style=\"text-align: right;\">\n",
       "      <th></th>\n",
       "      <th>idade</th>\n",
       "      <th>conta_corrente</th>\n",
       "      <th>sexo</th>\n",
       "    </tr>\n",
       "  </thead>\n",
       "  <tbody>\n",
       "    <tr>\n",
       "      <th>0</th>\n",
       "      <td>20</td>\n",
       "      <td>800</td>\n",
       "      <td>masculino</td>\n",
       "    </tr>\n",
       "    <tr>\n",
       "      <th>1</th>\n",
       "      <td>25</td>\n",
       "      <td>400</td>\n",
       "      <td>feminino</td>\n",
       "    </tr>\n",
       "    <tr>\n",
       "      <th>2</th>\n",
       "      <td>50</td>\n",
       "      <td>2200</td>\n",
       "      <td>masculino</td>\n",
       "    </tr>\n",
       "    <tr>\n",
       "      <th>3</th>\n",
       "      <td>35</td>\n",
       "      <td>3200</td>\n",
       "      <td>feminino</td>\n",
       "    </tr>\n",
       "    <tr>\n",
       "      <th>4</th>\n",
       "      <td>75</td>\n",
       "      <td>1000</td>\n",
       "      <td>feminino</td>\n",
       "    </tr>\n",
       "  </tbody>\n",
       "</table>\n",
       "</div>"
      ],
      "text/plain": [
       "   idade  conta_corrente       sexo\n",
       "0     20             800  masculino\n",
       "1     25             400   feminino\n",
       "2     50            2200  masculino\n",
       "3     35            3200   feminino\n",
       "4     75            1000   feminino"
      ]
     },
     "execution_count": 132,
     "metadata": {},
     "output_type": "execute_result"
    }
   ],
   "source": [
    "#Verificação com um novo conjunto de dados\n",
    "\n",
    "df_new = pd.DataFrame({\n",
    "    'idade': [20,25,50,35,75],\n",
    "    'conta_corrente': [800,400,2200,3200,1000],\n",
    "    'sexo': ['masculino', 'feminino', 'masculino', 'feminino', 'feminino']\n",
    "})\n",
    "\n",
    "df_new"
   ]
  },
  {
   "cell_type": "code",
   "execution_count": 133,
   "metadata": {},
   "outputs": [
    {
     "data": {
      "text/plain": [
       "array(['ruim', 'bom', 'ruim', 'bom', 'bom'], dtype=object)"
      ]
     },
     "execution_count": 133,
     "metadata": {},
     "output_type": "execute_result"
    }
   ],
   "source": [
    "#Fazendo a previsão de risco do novo DF, para isso precisamos utilizar o mesmo formato de treinamento do classificador\n",
    "X_new_bin = onehot.transform(df_new.select_dtypes(include=['object']))\n",
    "X_new_num = minmax.transform(df_new.select_dtypes(exclude=['object']))\n",
    "X_new = np.append(X_new_num, X_new_bin, axis=1)\n",
    "\n",
    "svc2.predict(X_new) "
   ]
  },
  {
   "cell_type": "code",
   "execution_count": 134,
   "metadata": {},
   "outputs": [
    {
     "data": {
      "text/html": [
       "<div>\n",
       "<style scoped>\n",
       "    .dataframe tbody tr th:only-of-type {\n",
       "        vertical-align: middle;\n",
       "    }\n",
       "\n",
       "    .dataframe tbody tr th {\n",
       "        vertical-align: top;\n",
       "    }\n",
       "\n",
       "    .dataframe thead th {\n",
       "        text-align: right;\n",
       "    }\n",
       "</style>\n",
       "<table border=\"1\" class=\"dataframe\">\n",
       "  <thead>\n",
       "    <tr style=\"text-align: right;\">\n",
       "      <th></th>\n",
       "      <th>idade</th>\n",
       "      <th>conta_corrente</th>\n",
       "      <th>sexo</th>\n",
       "      <th>previsao</th>\n",
       "    </tr>\n",
       "  </thead>\n",
       "  <tbody>\n",
       "    <tr>\n",
       "      <th>0</th>\n",
       "      <td>20</td>\n",
       "      <td>800</td>\n",
       "      <td>masculino</td>\n",
       "      <td>ruim</td>\n",
       "    </tr>\n",
       "    <tr>\n",
       "      <th>1</th>\n",
       "      <td>25</td>\n",
       "      <td>400</td>\n",
       "      <td>feminino</td>\n",
       "      <td>bom</td>\n",
       "    </tr>\n",
       "    <tr>\n",
       "      <th>2</th>\n",
       "      <td>50</td>\n",
       "      <td>2200</td>\n",
       "      <td>masculino</td>\n",
       "      <td>ruim</td>\n",
       "    </tr>\n",
       "    <tr>\n",
       "      <th>3</th>\n",
       "      <td>35</td>\n",
       "      <td>3200</td>\n",
       "      <td>feminino</td>\n",
       "      <td>bom</td>\n",
       "    </tr>\n",
       "    <tr>\n",
       "      <th>4</th>\n",
       "      <td>75</td>\n",
       "      <td>1000</td>\n",
       "      <td>feminino</td>\n",
       "      <td>bom</td>\n",
       "    </tr>\n",
       "  </tbody>\n",
       "</table>\n",
       "</div>"
      ],
      "text/plain": [
       "   idade  conta_corrente       sexo previsao\n",
       "0     20             800  masculino     ruim\n",
       "1     25             400   feminino      bom\n",
       "2     50            2200  masculino     ruim\n",
       "3     35            3200   feminino      bom\n",
       "4     75            1000   feminino      bom"
      ]
     },
     "execution_count": 134,
     "metadata": {},
     "output_type": "execute_result"
    }
   ],
   "source": [
    "#Mostrando o resultado em forma de DataFrame, precisamos apenas criar uma nova coluna contendo os resultados da previsão.\n",
    "df_previsao = df_new.copy()\n",
    "df_previsao['previsao'] = svc2.predict(X_new)\n",
    "df_previsao"
   ]
  }
 ],
 "metadata": {
  "kernelspec": {
   "display_name": "base",
   "language": "python",
   "name": "python3"
  },
  "language_info": {
   "codemirror_mode": {
    "name": "ipython",
    "version": 3
   },
   "file_extension": ".py",
   "mimetype": "text/x-python",
   "name": "python",
   "nbconvert_exporter": "python",
   "pygments_lexer": "ipython3",
   "version": "3.9.13"
  },
  "orig_nbformat": 4,
  "vscode": {
   "interpreter": {
    "hash": "77a2b46a9edf02c34c4c5f8d4ad3bb6f0b23513197e784aa68d4c64fd641c441"
   }
  }
 },
 "nbformat": 4,
 "nbformat_minor": 2
}
